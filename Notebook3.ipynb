{
 "cells": [
  {
   "cell_type": "code",
   "execution_count": 9,
   "metadata": {
    "execution": {
     "iopub.execute_input": "2023-02-03T13:45:27.973966Z",
     "iopub.status.busy": "2023-02-03T13:45:27.973407Z",
     "iopub.status.idle": "2023-02-03T13:45:28.458375Z",
     "shell.execute_reply": "2023-02-03T13:45:28.457067Z",
     "shell.execute_reply.started": "2023-02-03T13:45:27.973922Z"
    }
   },
   "outputs": [],
   "source": [
    "import numpy as np\n",
    "def unpickle(file):\n",
    "    import pickle\n",
    "    with open(file, 'rb') as fo:\n",
    "        dict = pickle.load(fo, encoding='bytes')\n",
    "        X = dict[b'data']\n",
    "        Y = dict[b'labels']\n",
    "        X = X.reshape(10000,3072)\n",
    "        Y = np.array(Y)\n",
    "        return X, Y\n",
    "    \n",
    "    \n",
    "test_data,test_labels=unpickle('/kaggle/input/test-batch/test_batch')"
   ]
  },
  {
   "cell_type": "code",
   "execution_count": 3,
   "metadata": {
    "execution": {
     "iopub.execute_input": "2023-02-03T13:44:44.552508Z",
     "iopub.status.busy": "2023-02-03T13:44:44.552060Z",
     "iopub.status.idle": "2023-02-03T13:44:46.637590Z",
     "shell.execute_reply": "2023-02-03T13:44:46.636171Z",
     "shell.execute_reply.started": "2023-02-03T13:44:44.552472Z"
    }
   },
   "outputs": [],
   "source": [
    "import pickle\n",
    "with open(\"/kaggle/input/pickleaug/normalized_feature_aug.pkl\",\"rb\") as file:\n",
    "    normalized_feature=pickle.load(file)"
   ]
  },
  {
   "cell_type": "code",
   "execution_count": 4,
   "metadata": {
    "execution": {
     "iopub.execute_input": "2023-02-03T13:44:46.640712Z",
     "iopub.status.busy": "2023-02-03T13:44:46.640199Z",
     "iopub.status.idle": "2023-02-03T13:44:46.733431Z",
     "shell.execute_reply": "2023-02-03T13:44:46.732211Z",
     "shell.execute_reply.started": "2023-02-03T13:44:46.640665Z"
    }
   },
   "outputs": [],
   "source": [
    "with open(\"/kaggle/input/finallabels/finallabels_aug.pkl\",\"rb\") as file:\n",
    "    final_labels=pickle.load(file)"
   ]
  },
  {
   "cell_type": "code",
   "execution_count": 5,
   "metadata": {
    "execution": {
     "iopub.execute_input": "2023-02-03T13:44:46.735419Z",
     "iopub.status.busy": "2023-02-03T13:44:46.734916Z",
     "iopub.status.idle": "2023-02-03T13:44:46.931588Z",
     "shell.execute_reply": "2023-02-03T13:44:46.930019Z",
     "shell.execute_reply.started": "2023-02-03T13:44:46.735369Z"
    }
   },
   "outputs": [],
   "source": [
    "with open(\"/kaggle/input/testfeature/test_featuref.pkl\",\"rb\") as file:\n",
    "    normalized_feature_test=pickle.load(file)"
   ]
  },
  {
   "cell_type": "code",
   "execution_count": 27,
   "metadata": {
    "execution": {
     "iopub.execute_input": "2023-02-03T14:12:23.870364Z",
     "iopub.status.busy": "2023-02-03T14:12:23.869443Z",
     "iopub.status.idle": "2023-02-03T14:12:23.877482Z",
     "shell.execute_reply": "2023-02-03T14:12:23.875670Z",
     "shell.execute_reply.started": "2023-02-03T14:12:23.870298Z"
    }
   },
   "outputs": [],
   "source": [
    "from sklearn import svm\n",
    "\n",
    "# create an instance\n",
    "clf = svm.SVC(kernal='rbf',probability=True)\n",
    "\n",
    "clf.fit(normalized_feature, final_labels)     "
   ]
  },
  {
   "cell_type": "code",
   "execution_count": 8,
   "metadata": {
    "execution": {
     "iopub.execute_input": "2023-02-03T07:06:35.658122Z",
     "iopub.status.busy": "2023-02-03T07:06:35.657726Z",
     "iopub.status.idle": "2023-02-03T07:06:36.204056Z",
     "shell.execute_reply": "2023-02-03T07:06:36.203029Z",
     "shell.execute_reply.started": "2023-02-03T07:06:35.658075Z"
    }
   },
   "outputs": [
    {
     "data": {
      "text/plain": [
       "KNeighborsClassifier(n_neighbors=16)"
      ]
     },
     "execution_count": 8,
     "metadata": {},
     "output_type": "execute_result"
    }
   ],
   "source": [
    "from sklearn.neighbors import KNeighborsClassifier\n",
    "\n",
    "# Create an instance \n",
    "knn = KNeighborsClassifier(n_neighbors=16)\n",
    "\n",
    "knn.fit(normalized_feature, final_labels)"
   ]
  },
  {
   "cell_type": "code",
   "execution_count": 9,
   "metadata": {
    "execution": {
     "iopub.execute_input": "2023-02-03T07:06:40.928831Z",
     "iopub.status.busy": "2023-02-03T07:06:40.928453Z",
     "iopub.status.idle": "2023-02-03T07:15:02.184546Z",
     "shell.execute_reply": "2023-02-03T07:15:02.183294Z",
     "shell.execute_reply.started": "2023-02-03T07:06:40.928800Z"
    }
   },
   "outputs": [
    {
     "data": {
      "text/plain": [
       "LogisticRegression(max_iter=10000)"
      ]
     },
     "execution_count": 9,
     "metadata": {},
     "output_type": "execute_result"
    }
   ],
   "source": [
    "from sklearn.linear_model import LogisticRegression\n",
    "\n",
    "# Create an instance \n",
    "log_reg = LogisticRegression( max_iter=10000)\n",
    "\n",
    "\n",
    "log_reg.fit(normalized_feature, final_labels)"
   ]
  },
  {
   "cell_type": "code",
   "execution_count": 10,
   "metadata": {
    "execution": {
     "iopub.execute_input": "2023-02-03T07:15:02.194412Z",
     "iopub.status.busy": "2023-02-03T07:15:02.191317Z",
     "iopub.status.idle": "2023-02-03T07:16:34.132788Z",
     "shell.execute_reply": "2023-02-03T07:16:34.131651Z",
     "shell.execute_reply.started": "2023-02-03T07:15:02.194355Z"
    }
   },
   "outputs": [
    {
     "data": {
      "text/plain": [
       "DecisionTreeClassifier()"
      ]
     },
     "execution_count": 10,
     "metadata": {},
     "output_type": "execute_result"
    }
   ],
   "source": [
    "from sklearn.tree import DecisionTreeClassifier\n",
    "\n",
    "# Create an instance\n",
    "clas = DecisionTreeClassifier()\n",
    "\n",
    "\n",
    "clas.fit(normalized_feature, final_labels)"
   ]
  },
  {
   "cell_type": "code",
   "execution_count": 28,
   "metadata": {
    "execution": {
     "iopub.execute_input": "2023-02-03T14:12:35.459969Z",
     "iopub.status.busy": "2023-02-03T14:12:35.459511Z",
     "iopub.status.idle": "2023-02-03T14:12:35.466895Z",
     "shell.execute_reply": "2023-02-03T14:12:35.465332Z",
     "shell.execute_reply.started": "2023-02-03T14:12:35.459935Z"
    }
   },
   "outputs": [],
   "source": [
    "#for svm\n",
    "\n",
    "y_prob = clf.predict_proba(normalized_feature_test)\n",
    "    \n",
    "# Find the top 5 classes\n",
    "top_5_classes = np.argsort(y_prob, axis=1)[:, -5:]\n",
    "    \n",
    "# Check if true label in one of 5 classes\n",
    "correct = 0\n",
    "for j in range(len(test_labels)):\n",
    "    if y_test[j] in top_5_classes[j, :]:\n",
    "        correct += 1\n",
    "accuracy = correct / len(test_labels)"
   ]
  },
  {
   "cell_type": "code",
   "execution_count": 28,
   "metadata": {
    "execution": {
     "iopub.execute_input": "2023-02-03T14:12:58.111770Z",
     "iopub.status.busy": "2023-02-03T14:12:58.110718Z",
     "iopub.status.idle": "2023-02-03T14:12:58.117680Z",
     "shell.execute_reply": "2023-02-03T14:12:58.116242Z",
     "shell.execute_reply.started": "2023-02-03T14:12:58.111717Z"
    }
   },
   "outputs": [
    {
     "name": "stdout",
     "output_type": "stream",
     "text": [
      "Performance for top 5 classification for svm: 88.16\n"
     ]
    }
   ],
   "source": [
    "print(\"Performance for top 5 classification for svm:\",accuracy)"
   ]
  },
  {
   "cell_type": "code",
   "execution_count": 11,
   "metadata": {
    "execution": {
     "iopub.execute_input": "2023-02-03T07:16:34.134835Z",
     "iopub.status.busy": "2023-02-03T07:16:34.134453Z",
     "iopub.status.idle": "2023-02-03T07:17:13.795224Z",
     "shell.execute_reply": "2023-02-03T07:17:13.794249Z",
     "shell.execute_reply.started": "2023-02-03T07:16:34.134800Z"
    }
   },
   "outputs": [],
   "source": [
    "#for knn\n",
    "y_prob = knn.predict_proba(normalized_feature_test)\n",
    "    \n",
    "# Find the top 5 classes\n",
    "top_5_classes = np.argsort(y_prob, axis=1)[:, -5:]\n",
    "    \n",
    "# Check if true label in one of 5 classes\n",
    "correct = 0\n",
    "for j in range(len(test_labels)):\n",
    "    if test_labels[j] in top_5_classes[j, :]:\n",
    "        correct += 1\n",
    "accuracy = correct / len(test_labels)"
   ]
  },
  {
   "cell_type": "code",
   "execution_count": 12,
   "metadata": {
    "execution": {
     "iopub.execute_input": "2023-02-03T07:17:13.798205Z",
     "iopub.status.busy": "2023-02-03T07:17:13.797804Z",
     "iopub.status.idle": "2023-02-03T07:17:13.804399Z",
     "shell.execute_reply": "2023-02-03T07:17:13.802547Z",
     "shell.execute_reply.started": "2023-02-03T07:17:13.798168Z"
    }
   },
   "outputs": [
    {
     "name": "stdout",
     "output_type": "stream",
     "text": [
      "Performance for top 5 classification for knn: 0.8408\n"
     ]
    }
   ],
   "source": [
    "print(\"Performance for top 5 classification for knn:\",accuracy)"
   ]
  },
  {
   "cell_type": "code",
   "execution_count": 13,
   "metadata": {
    "execution": {
     "iopub.execute_input": "2023-02-03T07:17:13.806743Z",
     "iopub.status.busy": "2023-02-03T07:17:13.805760Z",
     "iopub.status.idle": "2023-02-03T07:17:13.945196Z",
     "shell.execute_reply": "2023-02-03T07:17:13.943810Z",
     "shell.execute_reply.started": "2023-02-03T07:17:13.806708Z"
    }
   },
   "outputs": [],
   "source": [
    "#for logistic\n",
    "y_prob = log_reg.predict_proba(normalized_feature_test)\n",
    "    \n",
    "# Find the top 5 classes\n",
    "top_5_classes = np.argsort(y_prob, axis=1)[:, -5:]\n",
    "    \n",
    "# Check if true label in one of 5 classes\n",
    "correct = 0\n",
    "for j in range(len(test_labels)):\n",
    "    if test_labels[j] in top_5_classes[j, :]:\n",
    "        correct += 1\n",
    "accuracy = correct / len(test_labels)"
   ]
  },
  {
   "cell_type": "code",
   "execution_count": 14,
   "metadata": {
    "execution": {
     "iopub.execute_input": "2023-02-03T07:17:13.947223Z",
     "iopub.status.busy": "2023-02-03T07:17:13.946602Z",
     "iopub.status.idle": "2023-02-03T07:17:13.952698Z",
     "shell.execute_reply": "2023-02-03T07:17:13.951709Z",
     "shell.execute_reply.started": "2023-02-03T07:17:13.947188Z"
    }
   },
   "outputs": [
    {
     "name": "stdout",
     "output_type": "stream",
     "text": [
      "Performance for top 5 classification for logistic regression: 0.8714\n"
     ]
    }
   ],
   "source": [
    "print(\"Performance for top 5 classification for logistic regression:\",accuracy)"
   ]
  },
  {
   "cell_type": "code",
   "execution_count": 15,
   "metadata": {
    "execution": {
     "iopub.execute_input": "2023-02-03T07:17:13.955104Z",
     "iopub.status.busy": "2023-02-03T07:17:13.954046Z",
     "iopub.status.idle": "2023-02-03T07:17:14.016800Z",
     "shell.execute_reply": "2023-02-03T07:17:14.015939Z",
     "shell.execute_reply.started": "2023-02-03T07:17:13.955063Z"
    }
   },
   "outputs": [],
   "source": [
    "#for decision\n",
    "y_prob = clas.predict_proba(normalized_feature_test)\n",
    "    \n",
    "# Find the top 5 classes\n",
    "top_5_classes = np.argsort(y_prob, axis=1)[:, -5:]\n",
    "    \n",
    "# Check if true label in one of 5 classes\n",
    "correct = 0\n",
    "for j in range(len(test_labels)):\n",
    "    if test_labels[j] in top_5_classes[j, :]:\n",
    "        correct += 1\n",
    "accuracy = correct / len(test_labels)"
   ]
  },
  {
   "cell_type": "code",
   "execution_count": 16,
   "metadata": {
    "execution": {
     "iopub.execute_input": "2023-02-03T07:17:14.018552Z",
     "iopub.status.busy": "2023-02-03T07:17:14.018207Z",
     "iopub.status.idle": "2023-02-03T07:17:14.023879Z",
     "shell.execute_reply": "2023-02-03T07:17:14.022586Z",
     "shell.execute_reply.started": "2023-02-03T07:17:14.018519Z"
    }
   },
   "outputs": [
    {
     "name": "stdout",
     "output_type": "stream",
     "text": [
      "Performance for top 5 classification for Decision Tree: 0.5631\n"
     ]
    }
   ],
   "source": [
    "print(\"Performance for top 5 classification for Decision Tree:\",accuracy)"
   ]
  },
  {
   "cell_type": "code",
   "execution_count": 10,
   "metadata": {
    "execution": {
     "iopub.execute_input": "2023-02-03T13:45:33.160386Z",
     "iopub.status.busy": "2023-02-03T13:45:33.159978Z",
     "iopub.status.idle": "2023-02-03T13:45:33.182247Z",
     "shell.execute_reply": "2023-02-03T13:45:33.179861Z",
     "shell.execute_reply.started": "2023-02-03T13:45:33.160352Z"
    }
   },
   "outputs": [],
   "source": [
    "class MLP:\n",
    "    \n",
    "    def __init__(self,input_size,hidden_size,output_size):\n",
    "    #initialize weights and biases for layers\n",
    "        self.w1=np.random.randn(input_size,hidden_size) * (np.sqrt(2 / input_size)) \n",
    "        self.b1=np.zeros((1,hidden_size))\n",
    "        self.w2=np.random.randn(hidden_size,hidden_size) * (np.sqrt(2 / hidden_size)) \n",
    "        self.b2=np.zeros((1,hidden_size))\n",
    "        self.w3=np.random.randn(hidden_size,output_size) * (np.sqrt(2 / hidden_size)) \n",
    "        self.b3=np.zeros((1,output_size))\n",
    "        \n",
    "\n",
    "        \n",
    "    def relu(self,x):\n",
    "        return np.maximum(0, x)\n",
    "    \n",
    "    def softmax(self, x):\n",
    "        # Define the softmax activation function\n",
    "        exp_x = np.exp(x)\n",
    "        return exp_x / np.sum(exp_x, axis=1, keepdims=True)\n",
    "        \n",
    "    def forward(self,X):\n",
    "        self.z1=np.dot(X,self.w1)+self.b1\n",
    "        self.a1=self.relu(self.z1)\n",
    "        self.z2=np.dot(self.a1,self.w2)+self.b2\n",
    "        self.a2=self.relu(self.z2)\n",
    "        self.z3=np.dot(self.a2,self.w3)+self.b3\n",
    "        y_pred=self.softmax(self.z3)\n",
    "        return y_pred\n",
    "        \n",
    "    def cross(self,y,y_pred):\n",
    "        return -np.sum(y * np.log(y_pred)) / y.shape[0]\n",
    "        \n",
    "    def backward(self, X, y, y_pred, learning_rate):\n",
    "      # Perform a backward pass through the network\n",
    "        delta3 = y_pred - y\n",
    "        dw3 = np.dot(self.a2.T, delta3)\n",
    "        db3 = np.sum(delta3, axis=0).reshape(1,-1)\n",
    "        delta2 = np.dot(delta3, self.w3.T) * (self.a2 > 0)\n",
    "        dw2 = np.dot(self.a1.T, delta2)\n",
    "        db2 = np.sum(delta2, axis=0).reshape(1,-1)\n",
    "        delta1 = np.dot(delta2, self.w2.T) * (self.a1 > 0)\n",
    "        dw1 = np.dot(X.T, delta1)\n",
    "        db1 = np.sum(delta1, axis=0).reshape(1,-1)\n",
    "        # Update the weights and biases\n",
    "        self.w1 -= learning_rate * (dw1 / X.shape[0])\n",
    "        self.b1 -= learning_rate * (db1 / X.shape[0])\n",
    "        self.w2 -= learning_rate * (dw2 / X.shape[0])\n",
    "        self.b2 -= learning_rate * (db2 / X.shape[0])\n",
    "        self.w3 -= learning_rate * (dw3 / X.shape[0])\n",
    "        self.b3 -= learning_rate * (db3 / X.shape[0])"
   ]
  },
  {
   "cell_type": "code",
   "execution_count": 11,
   "metadata": {
    "execution": {
     "iopub.execute_input": "2023-02-03T13:45:34.101324Z",
     "iopub.status.busy": "2023-02-03T13:45:34.100894Z",
     "iopub.status.idle": "2023-02-03T13:45:34.123052Z",
     "shell.execute_reply": "2023-02-03T13:45:34.121882Z",
     "shell.execute_reply.started": "2023-02-03T13:45:34.101291Z"
    }
   },
   "outputs": [],
   "source": [
    "#convert final_labels in one hot vector\n",
    "one_hot_y = np.zeros((len(normalized_feature), 10))\n",
    "one_hot_y[np.arange(len(normalized_feature)), final_labels] = 1"
   ]
  },
  {
   "cell_type": "code",
   "execution_count": 12,
   "metadata": {
    "execution": {
     "iopub.execute_input": "2023-02-03T13:45:35.634092Z",
     "iopub.status.busy": "2023-02-03T13:45:35.632645Z",
     "iopub.status.idle": "2023-02-03T13:56:04.779389Z",
     "shell.execute_reply": "2023-02-03T13:56:04.777193Z",
     "shell.execute_reply.started": "2023-02-03T13:45:35.634031Z"
    }
   },
   "outputs": [],
   "source": [
    "# Create an instance of the MLP model\n",
    "input_size = 512\n",
    "hidden_size = 64\n",
    "output_size = 10\n",
    "mlp = MLP(input_size, hidden_size, output_size)\n",
    "\n",
    "# Define the number of iterations, the learning rate, and the batch size\n",
    "epochs = 500\n",
    "learning_rate = 0.1\n",
    "batch_size = 1000\n",
    "cost_list=[]\n",
    "# Calculate the number of batches\n",
    "num_batches = normalized_feature.shape[0] // batch_size\n",
    "\n",
    "# Train the model in batches\n",
    "for i in range(epochs):\n",
    "    for j in range(num_batches):\n",
    "        start = j * batch_size\n",
    "        end = start + batch_size\n",
    "        batch_x = normalized_feature[start:end]\n",
    "        batch_y = one_hot_y[start:end]\n",
    "        probs = mlp.forward(batch_x)\n",
    "        mlp.backward(batch_x, batch_y, probs, learning_rate)\n",
    "    cost_list.append(mlp.cross(batch_y,probs))"
   ]
  },
  {
   "cell_type": "code",
   "execution_count": 13,
   "metadata": {
    "execution": {
     "iopub.execute_input": "2023-02-03T13:56:04.783544Z",
     "iopub.status.busy": "2023-02-03T13:56:04.782245Z",
     "iopub.status.idle": "2023-02-03T13:56:05.013934Z",
     "shell.execute_reply": "2023-02-03T13:56:05.012611Z",
     "shell.execute_reply.started": "2023-02-03T13:56:04.783490Z"
    }
   },
   "outputs": [
    {
     "data": {
      "image/png": "[encoded data removed]",
      "text/plain": [
       "<Figure size 432x288 with 1 Axes>"
      ]
     },
     "metadata": {
      "needs_background": "light"
     },
     "output_type": "display_data"
    }
   ],
   "source": [
    "#cost_loss graph with no of iterations\n",
    "import matplotlib.pyplot as plt\n",
    "t = np.arange(0, epochs)\n",
    "plt.plot(t, cost_list)\n",
    "plt.show()"
   ]
  },
  {
   "cell_type": "code",
   "execution_count": 14,
   "metadata": {
    "execution": {
     "iopub.execute_input": "2023-02-03T13:56:05.016325Z",
     "iopub.status.busy": "2023-02-03T13:56:05.015513Z",
     "iopub.status.idle": "2023-02-03T13:56:05.110874Z",
     "shell.execute_reply": "2023-02-03T13:56:05.109240Z",
     "shell.execute_reply.started": "2023-02-03T13:56:05.016275Z"
    }
   },
   "outputs": [],
   "source": [
    "probs=mlp.forward(normalized_feature_test)"
   ]
  },
  {
   "cell_type": "code",
   "execution_count": 15,
   "metadata": {
    "execution": {
     "iopub.execute_input": "2023-02-03T13:56:05.116990Z",
     "iopub.status.busy": "2023-02-03T13:56:05.115322Z",
     "iopub.status.idle": "2023-02-03T13:56:05.127462Z",
     "shell.execute_reply": "2023-02-03T13:56:05.125450Z",
     "shell.execute_reply.started": "2023-02-03T13:56:05.116906Z"
    }
   },
   "outputs": [],
   "source": [
    "predictions = np.argmax(probs, axis=1)"
   ]
  },
  {
   "cell_type": "code",
   "execution_count": 16,
   "metadata": {
    "execution": {
     "iopub.execute_input": "2023-02-03T13:56:05.132302Z",
     "iopub.status.busy": "2023-02-03T13:56:05.131180Z",
     "iopub.status.idle": "2023-02-03T13:56:05.144015Z",
     "shell.execute_reply": "2023-02-03T13:56:05.141401Z",
     "shell.execute_reply.started": "2023-02-03T13:56:05.132227Z"
    }
   },
   "outputs": [],
   "source": [
    "accuracy = np.mean(predictions == test_labels)"
   ]
  },
  {
   "cell_type": "code",
   "execution_count": 17,
   "metadata": {
    "execution": {
     "iopub.execute_input": "2023-02-03T13:56:05.148582Z",
     "iopub.status.busy": "2023-02-03T13:56:05.147421Z",
     "iopub.status.idle": "2023-02-03T13:56:05.162003Z",
     "shell.execute_reply": "2023-02-03T13:56:05.159837Z",
     "shell.execute_reply.started": "2023-02-03T13:56:05.148505Z"
    }
   },
   "outputs": [
    {
     "name": "stdout",
     "output_type": "stream",
     "text": [
      "Accuracy of MLP on augmented dataset: 0.4544\n"
     ]
    }
   ],
   "source": [
    "print(\"Accuracy of MLP on testset:\",accuracy)"
   ]
  },
  {
   "cell_type": "code",
   "execution_count": 18,
   "metadata": {
    "execution": {
     "iopub.execute_input": "2023-02-03T13:56:05.166136Z",
     "iopub.status.busy": "2023-02-03T13:56:05.164958Z",
     "iopub.status.idle": "2023-02-03T13:56:05.184104Z",
     "shell.execute_reply": "2023-02-03T13:56:05.181943Z",
     "shell.execute_reply.started": "2023-02-03T13:56:05.166063Z"
    }
   },
   "outputs": [],
   "source": [
    "top_5_classes=np.argsort(probs,axis=1)[:,-5:]"
   ]
  },
  {
   "cell_type": "code",
   "execution_count": 19,
   "metadata": {
    "execution": {
     "iopub.execute_input": "2023-02-03T13:56:05.188463Z",
     "iopub.status.busy": "2023-02-03T13:56:05.186788Z",
     "iopub.status.idle": "2023-02-03T13:56:05.256299Z",
     "shell.execute_reply": "2023-02-03T13:56:05.255056Z",
     "shell.execute_reply.started": "2023-02-03T13:56:05.188379Z"
    }
   },
   "outputs": [],
   "source": [
    "# Check if true label in one of 5 classes\n",
    "correct = 0\n",
    "for j in range(len(test_labels)):\n",
    "    if test_labels[j] in top_5_classes[j, :]:\n",
    "        correct += 1\n",
    "accuracy = correct / len(test_labels)"
   ]
  },
  {
   "cell_type": "code",
   "execution_count": 20,
   "metadata": {
    "execution": {
     "iopub.execute_input": "2023-02-03T13:56:05.259902Z",
     "iopub.status.busy": "2023-02-03T13:56:05.259040Z",
     "iopub.status.idle": "2023-02-03T13:56:05.266266Z",
     "shell.execute_reply": "2023-02-03T13:56:05.264855Z",
     "shell.execute_reply.started": "2023-02-03T13:56:05.259862Z"
    }
   },
   "outputs": [
    {
     "name": "stdout",
     "output_type": "stream",
     "text": [
      "Accuracy of MLP On testset of top 5 classification: 0.8978\n"
     ]
    }
   ],
   "source": [
    "print(\"Accuracy of MLP On testset of top 5 classification:\",accuracy)"
   ]
  },
  {
   "cell_type": "code",
   "execution_count": 21,
   "metadata": {
    "execution": {
     "iopub.execute_input": "2023-02-03T14:08:11.813350Z",
     "iopub.status.busy": "2023-02-03T14:08:11.812889Z",
     "iopub.status.idle": "2023-02-03T14:08:11.820077Z",
     "shell.execute_reply": "2023-02-03T14:08:11.818482Z",
     "shell.execute_reply.started": "2023-02-03T14:08:11.813313Z"
    }
   },
   "outputs": [],
   "source": [
    "weights={}\n",
    "\n",
    "weights['w1']=mlp.w1\n",
    "weights['w2']=mlp.w2\n",
    "weights['w3']=mlp.w3"
   ]
  },
  {
   "cell_type": "code",
   "execution_count": 22,
   "metadata": {
    "execution": {
     "iopub.execute_input": "2023-02-03T14:08:13.115169Z",
     "iopub.status.busy": "2023-02-03T14:08:13.114717Z",
     "iopub.status.idle": "2023-02-03T14:08:13.122492Z",
     "shell.execute_reply": "2023-02-03T14:08:13.121104Z",
     "shell.execute_reply.started": "2023-02-03T14:08:13.115133Z"
    }
   },
   "outputs": [],
   "source": [
    "biases={}\n",
    "\n",
    "biases['b1']=mlp.b1\n",
    "biases['b2']=mlp.b2\n",
    "biases['b3']=mlp.b3"
   ]
  },
  {
   "cell_type": "code",
   "execution_count": 23,
   "metadata": {
    "execution": {
     "iopub.execute_input": "2023-02-03T14:08:17.121925Z",
     "iopub.status.busy": "2023-02-03T14:08:17.121435Z",
     "iopub.status.idle": "2023-02-03T14:08:17.129593Z",
     "shell.execute_reply": "2023-02-03T14:08:17.128187Z",
     "shell.execute_reply.started": "2023-02-03T14:08:17.121888Z"
    }
   },
   "outputs": [],
   "source": [
    "with open(\"weights_aug.pkl\",\"wb\")as file:\n",
    "    pickle.dump(weights,file)"
   ]
  },
  {
   "cell_type": "code",
   "execution_count": 24,
   "metadata": {
    "execution": {
     "iopub.execute_input": "2023-02-03T14:08:18.205172Z",
     "iopub.status.busy": "2023-02-03T14:08:18.204623Z",
     "iopub.status.idle": "2023-02-03T14:08:18.212353Z",
     "shell.execute_reply": "2023-02-03T14:08:18.210736Z",
     "shell.execute_reply.started": "2023-02-03T14:08:18.205131Z"
    }
   },
   "outputs": [],
   "source": [
    "with open(\"biases_aug.pkl\",\"wb\")as file:\n",
    "    pickle.dump(biases,file)"
   ]
  },
  {
   "cell_type": "code",
   "execution_count": null,
   "metadata": {},
   "outputs": [],
   "source": []
  }
 ],
 "metadata": {
  "kernelspec": {
   "display_name": "Python 3 (ipykernel)",
   "language": "python",
   "name": "python3"
  },
  "language_info": {
   "codemirror_mode": {
    "name": "ipython",
    "version": 3
   },
   "file_extension": ".py",
   "mimetype": "text/x-python",
   "name": "python",
   "nbconvert_exporter": "python",
   "pygments_lexer": "ipython3",
   "version": "3.10.5"
  }
 },
 "nbformat": 4,
 "nbformat_minor": 4
}
