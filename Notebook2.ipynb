{
 "cells": [
  {
   "cell_type": "code",
   "execution_count": 1,
   "metadata": {
    "execution": {
     "iopub.execute_input": "2023-02-01T09:01:45.429189Z",
     "iopub.status.busy": "2023-02-01T09:01:45.428814Z",
     "iopub.status.idle": "2023-02-01T09:01:45.838243Z",
     "shell.execute_reply": "2023-02-01T09:01:45.837148Z",
     "shell.execute_reply.started": "2023-02-01T09:01:45.429158Z"
    },
    "id": "f30l94TL1oaM"
   },
   "outputs": [],
   "source": [
    "import numpy as np\n",
    "def unpickle(file):\n",
    "    import pickle\n",
    "    with open(file, 'rb') as fo:\n",
    "        dict = pickle.load(fo, encoding='bytes')\n",
    "        X = dict[b'data']\n",
    "        Y = dict[b'labels']\n",
    "        X = X.reshape(10000,3072)\n",
    "        Y = np.array(Y)\n",
    "        return X, Y\n",
    "    \n",
    "    \n",
    "test_data,test_labels=unpickle('test_batch')"
   ]
  },
  {
   "cell_type": "code",
   "execution_count": 2,
   "metadata": {
    "id": "3oEoSqMVTzct"
   },
   "outputs": [],
   "source": [
    "import pickle"
   ]
  },
  {
   "cell_type": "code",
   "execution_count": 3,
   "metadata": {
    "id": "uTxDxBXEPQet"
   },
   "outputs": [],
   "source": [
    "with open(\"normalized_featuref.pkl\",'rb') as file:\n",
    "    normalized_feature=pickle.load(file);"
   ]
  },
  {
   "cell_type": "code",
   "execution_count": 4,
   "metadata": {
    "id": "6muht578PRSm"
   },
   "outputs": [],
   "source": [
    "with open(\"finallabelsf.pkl\",'rb') as file:\n",
    "    final_labels=pickle.load(file);"
   ]
  },
  {
   "cell_type": "code",
   "execution_count": 5,
   "metadata": {
    "id": "VwL8CM_ePRhs"
   },
   "outputs": [],
   "source": [
    "with open(\"test_featuref.pkl\",'rb') as file:\n",
    "     normalized_feature_test=pickle.load(file);"
   ]
  },
  {
   "cell_type": "code",
   "execution_count": 6,
   "metadata": {
    "colab": {
     "base_uri": "https://localhost:8080/"
    },
    "id": "vCH7Xf0zaXw5",
    "outputId": "1fd5fd82-248a-42be-8c3a-14785da7028b"
   },
   "outputs": [
    {
     "data": {
      "text/plain": [
       "SVC(kernel='linear', probability=True)"
      ]
     },
     "execution_count": 6,
     "metadata": {},
     "output_type": "execute_result"
    }
   ],
   "source": [
    "from sklearn import svm\n",
    "\n",
    "# create an instance\n",
    "clf = svm.SVC(kernel='linear',probability=True)\n",
    "\n",
    "clf.fit(normalized_feature, final_labels)"
   ]
  },
  {
   "cell_type": "code",
   "execution_count": 7,
   "metadata": {
    "colab": {
     "base_uri": "https://localhost:8080/"
    },
    "execution": {
     "iopub.execute_input": "2023-02-01T09:20:25.873497Z",
     "iopub.status.busy": "2023-02-01T09:20:25.872809Z",
     "iopub.status.idle": "2023-02-01T09:20:25.909433Z",
     "shell.execute_reply": "2023-02-01T09:20:25.908134Z",
     "shell.execute_reply.started": "2023-02-01T09:20:25.873461Z"
    },
    "id": "MuUVSKzC1oaf",
    "outputId": "276b63f5-e59e-416c-fa39-04159eb43f34"
   },
   "outputs": [
    {
     "data": {
      "text/plain": [
       "KNeighborsClassifier(n_neighbors=18)"
      ]
     },
     "execution_count": 7,
     "metadata": {},
     "output_type": "execute_result"
    }
   ],
   "source": [
    "from sklearn.neighbors import KNeighborsClassifier\n",
    "\n",
    "# Create an instance \n",
    "knn = KNeighborsClassifier(n_neighbors=18)\n",
    "\n",
    "knn.fit(normalized_feature, final_labels)"
   ]
  },
  {
   "cell_type": "code",
   "execution_count": 8,
   "metadata": {
    "colab": {
     "base_uri": "https://localhost:8080/"
    },
    "execution": {
     "iopub.execute_input": "2023-02-01T09:21:48.930970Z",
     "iopub.status.busy": "2023-02-01T09:21:48.930354Z",
     "iopub.status.idle": "2023-02-01T09:25:52.924493Z",
     "shell.execute_reply": "2023-02-01T09:25:52.922899Z",
     "shell.execute_reply.started": "2023-02-01T09:21:48.930931Z"
    },
    "id": "vGwnn_CL1oah",
    "outputId": "e887cb5a-7c45-4158-8cf5-5d46d5019b07"
   },
   "outputs": [
    {
     "data": {
      "text/plain": [
       "LogisticRegression(max_iter=10000)"
      ]
     },
     "execution_count": 8,
     "metadata": {},
     "output_type": "execute_result"
    }
   ],
   "source": [
    "from sklearn.linear_model import LogisticRegression\n",
    "\n",
    "# Create an instance \n",
    "log_reg = LogisticRegression( max_iter=10000)\n",
    "\n",
    "\n",
    "log_reg.fit(normalized_feature, final_labels)"
   ]
  },
  {
   "cell_type": "code",
   "execution_count": 9,
   "metadata": {
    "colab": {
     "base_uri": "https://localhost:8080/"
    },
    "execution": {
     "iopub.execute_input": "2023-02-01T10:18:07.566810Z",
     "iopub.status.busy": "2023-02-01T10:18:07.566452Z",
     "iopub.status.idle": "2023-02-01T10:20:03.312812Z",
     "shell.execute_reply": "2023-02-01T10:20:03.311850Z",
     "shell.execute_reply.started": "2023-02-01T10:18:07.566781Z"
    },
    "id": "lE6PZdiI1oam",
    "outputId": "2a018eff-599e-4eeb-ffbd-71d9aa5ff3c4"
   },
   "outputs": [
    {
     "data": {
      "text/plain": [
       "DecisionTreeClassifier()"
      ]
     },
     "execution_count": 9,
     "metadata": {},
     "output_type": "execute_result"
    }
   ],
   "source": [
    "from sklearn.tree import DecisionTreeClassifier\n",
    "\n",
    "# Create an instance\n",
    "clas = DecisionTreeClassifier()\n",
    "\n",
    "\n",
    "clas.fit(normalized_feature, final_labels)"
   ]
  },
  {
   "cell_type": "code",
   "execution_count": 10,
   "metadata": {
    "id": "BLHGiOfg1oao"
   },
   "outputs": [],
   "source": [
    "#for svm\n",
    "\n",
    "y_prob = clf.predict_proba(normalized_feature_test)\n",
    "    \n",
    "# Find the top 5 classes\n",
    "top_5_classes = np.argsort(y_prob, axis=1)[:, -5:]\n",
    "    \n",
    "# Check if true label in one of 5 classes\n",
    "correct = 0\n",
    "for j in range(len(test_labels)):\n",
    "    if test_labels[j] in top_5_classes[j, :]:\n",
    "        correct += 1\n",
    "accuracy = correct / len(test_labels)"
   ]
  },
  {
   "cell_type": "code",
   "execution_count": 11,
   "metadata": {
    "colab": {
     "base_uri": "https://localhost:8080/"
    },
    "id": "VOjAJw4R12do",
    "outputId": "b28121ae-f695-489a-aa6b-bf2c36941d82"
   },
   "outputs": [
    {
     "name": "stdout",
     "output_type": "stream",
     "text": [
      "Performance for top 5 classification for svm: 0.9086\n"
     ]
    }
   ],
   "source": [
    "print(\"Performance for top 5 classification for svm:\",accuracy)"
   ]
  },
  {
   "cell_type": "code",
   "execution_count": 12,
   "metadata": {
    "id": "7vkbI0Kt12sq"
   },
   "outputs": [],
   "source": [
    "#for knn\n",
    "y_prob = knn.predict_proba(normalized_feature_test)\n",
    "    \n",
    "# Find the top 5 classes\n",
    "top_5_classes = np.argsort(y_prob, axis=1)[:, -5:]\n",
    "    \n",
    "# Check if true label in one of 5 classes\n",
    "correct = 0\n",
    "for j in range(len(test_labels)):\n",
    "    if test_labels[j] in top_5_classes[j, :]:\n",
    "        correct += 1\n",
    "accuracy = correct / len(test_labels)"
   ]
  },
  {
   "cell_type": "code",
   "execution_count": 13,
   "metadata": {
    "colab": {
     "base_uri": "https://localhost:8080/"
    },
    "id": "J0E1OODq2BFE",
    "outputId": "e5abe8a4-741d-4dbc-81f3-7448963d0649"
   },
   "outputs": [
    {
     "name": "stdout",
     "output_type": "stream",
     "text": [
      "Performance for top 5 classification for knn: 0.8476\n"
     ]
    }
   ],
   "source": [
    "print(\"Performance for top 5 classification for knn:\",accuracy)"
   ]
  },
  {
   "cell_type": "code",
   "execution_count": 14,
   "metadata": {
    "id": "AwwGAxt82Bd6"
   },
   "outputs": [],
   "source": [
    "#for logistic\n",
    "y_prob = log_reg.predict_proba(normalized_feature_test)\n",
    "    \n",
    "# Find the top 5 classes\n",
    "top_5_classes = np.argsort(y_prob, axis=1)[:, -5:]\n",
    "    \n",
    "# Check if true label in one of 5 classes\n",
    "correct = 0\n",
    "for j in range(len(test_labels)):\n",
    "    if test_labels[j] in top_5_classes[j, :]:\n",
    "        correct += 1\n",
    "accuracy = correct / len(test_labels)"
   ]
  },
  {
   "cell_type": "code",
   "execution_count": 15,
   "metadata": {
    "colab": {
     "base_uri": "https://localhost:8080/"
    },
    "id": "zAPgwBfQ124t",
    "outputId": "163ef216-88c8-4c2d-e27f-cf5de516c3ec"
   },
   "outputs": [
    {
     "name": "stdout",
     "output_type": "stream",
     "text": [
      "Performance for top 5 classification for logistic regression: 0.8989\n"
     ]
    }
   ],
   "source": [
    "print(\"Performance for top 5 classification for logistic regression:\",accuracy)"
   ]
  },
  {
   "cell_type": "code",
   "execution_count": 16,
   "metadata": {
    "id": "Flvgljym2LKL"
   },
   "outputs": [],
   "source": [
    "#for decision\n",
    "y_prob = clas.predict_proba(normalized_feature_test)\n",
    "    \n",
    "# Find the top 5 classes\n",
    "top_5_classes = np.argsort(y_prob, axis=1)[:, -5:]\n",
    "    \n",
    "# Check if true label in one of 5 classes\n",
    "correct = 0\n",
    "for j in range(len(test_labels)):\n",
    "    if test_labels[j] in top_5_classes[j, :]:\n",
    "        correct += 1\n",
    "accuracy = correct / len(test_labels)"
   ]
  },
  {
   "cell_type": "code",
   "execution_count": 17,
   "metadata": {
    "colab": {
     "base_uri": "https://localhost:8080/"
    },
    "id": "iceA8u9c2LU-",
    "outputId": "8c09113d-4a2b-4854-9a7a-0b13fb639dff"
   },
   "outputs": [
    {
     "name": "stdout",
     "output_type": "stream",
     "text": [
      "Performance for top 5 classification for Decision Tree: 0.5693\n"
     ]
    }
   ],
   "source": [
    "print(\"Performance for top 5 classification for Decision Tree:\",accuracy)"
   ]
  },
  {
   "cell_type": "code",
   "execution_count": 11,
   "metadata": {
    "id": "XzsRRBGc1oap"
   },
   "outputs": [],
   "source": [
    "class MLP:\n",
    "    \n",
    "    def __init__(self,input_size,hidden_size,output_size):\n",
    "    #initialize weights and biases for layers\n",
    "        self.w1=np.random.randn(input_size,hidden_size) * (np.sqrt(2 / input_size)) \n",
    "        self.b1=np.zeros((1,hidden_size))\n",
    "        self.w2=np.random.randn(hidden_size,hidden_size) * (np.sqrt(2 / hidden_size)) \n",
    "        self.b2=np.zeros((1,hidden_size))\n",
    "        self.w3=np.random.randn(hidden_size,output_size) * (np.sqrt(2 / hidden_size)) \n",
    "        self.b3=np.zeros((1,output_size))\n",
    "        \n",
    "\n",
    "        \n",
    "    def relu(self,x):\n",
    "        # Define the relu activation function\n",
    "        return np.maximum(0, x)\n",
    "    \n",
    "    def softmax(self, x):\n",
    "        # Define the softmax activation function\n",
    "        exp_x = np.exp(x)\n",
    "        return exp_x / np.sum(exp_x, axis=1, keepdims=True)\n",
    "    \n",
    "    def cross(self,y,y_pred):\n",
    "        return -np.sum(y * np.log(y_pred)) / y.shape[0]\n",
    "        \n",
    "    def forward(self,X):\n",
    "        self.z1=np.dot(X,self.w1)+self.b1\n",
    "        self.a1=self.relu(self.z1)\n",
    "        self.z2=np.dot(self.a1,self.w2)+self.b2\n",
    "        self.a2=self.relu(self.z2)\n",
    "        self.z3=np.dot(self.a2,self.w3)+self.b3\n",
    "        y_pred=self.softmax(self.z3)\n",
    "        return y_pred\n",
    "    \n",
    "        \n",
    "    def backward(self, X, y, y_pred, learning_rate):\n",
    "      # Perform a backward pass through the network\n",
    "        delta3 = y_pred - y\n",
    "        dw3 = np.dot(self.a2.T, delta3)\n",
    "        db3 = np.sum(delta3, axis=0).reshape(1,-1)\n",
    "        delta2 = np.dot(delta3, self.w3.T) * (self.a2 > 0)\n",
    "        dw2 = np.dot(self.a1.T, delta2)\n",
    "        db2 = np.sum(delta2, axis=0).reshape(1,-1)\n",
    "        delta1 = np.dot(delta2, self.w2.T) * (self.a1 > 0)\n",
    "        dw1 = np.dot(X.T, delta1)\n",
    "        db1 = np.sum(delta1, axis=0).reshape(1,-1)\n",
    "        # Update the weights and biases\n",
    "        self.w1 -= learning_rate * (dw1 / X.shape[0])\n",
    "        self.b1 -= learning_rate * (db1 / X.shape[0])\n",
    "        self.w2 -= learning_rate * (dw2 / X.shape[0])\n",
    "        self.b2 -= learning_rate * (db2 / X.shape[0])\n",
    "        self.w3 -= learning_rate * (dw3 / X.shape[0])\n",
    "        self.b3 -= learning_rate * (db3 / X.shape[0])"
   ]
  },
  {
   "cell_type": "code",
   "execution_count": 12,
   "metadata": {
    "id": "hh_wziDN1oar"
   },
   "outputs": [],
   "source": [
    "#convert final_labels in one hot vector\n",
    "one_hot_y = np.zeros((len(normalized_feature), 10))\n",
    "one_hot_y[np.arange(len(normalized_feature)), final_labels] = 1"
   ]
  },
  {
   "cell_type": "code",
   "execution_count": 55,
   "metadata": {
    "id": "RbMoVoBE1oas"
   },
   "outputs": [],
   "source": [
    "# Create an instance of the MLP model\n",
    "input_size = 512\n",
    "hidden_size = 64\n",
    "output_size = 10\n",
    "mlp = MLP(input_size, hidden_size, output_size)\n",
    "cost_list=[]\n",
    "# Define the number of iterations, the learning rate, and the batch size\n",
    "epochs = 1000\n",
    "learning_rate = 0.1\n",
    "batch_size = 1000\n",
    "\n",
    "# Calculate the number of batches\n",
    "num_batches = normalized_feature.shape[0] // batch_size\n",
    "\n",
    "# Train the model in batches\n",
    "for i in range(epochs):\n",
    "    for j in range(num_batches):\n",
    "        start = j * batch_size\n",
    "        end = start + batch_size\n",
    "        batch_x = normalized_feature[start:end]\n",
    "        batch_y = one_hot_y[start:end]\n",
    "        probs = mlp.forward(batch_x)\n",
    "        mlp.backward(batch_x, batch_y, probs, learning_rate)\n",
    "    cost_list.append(mlp.cross(batch_y,probs))\n"
   ]
  },
  {
   "cell_type": "code",
   "execution_count": 56,
   "metadata": {},
   "outputs": [
    {
     "data": {
      "image/png": "[encoded data removed]",
      "text/plain": [
       "<Figure size 432x288 with 1 Axes>"
      ]
     },
     "metadata": {
      "needs_background": "light"
     },
     "output_type": "display_data"
    }
   ],
   "source": [
    "#cost_loss graph with no of iterations\n",
    "import matplotlib.pyplot as plt\n",
    "t = np.arange(0, epochs)\n",
    "plt.plot(t, cost_list)      \n",
    "plt.show()"
   ]
  },
  {
   "cell_type": "code",
   "execution_count": 57,
   "metadata": {
    "id": "Z_m17D1JY-SD"
   },
   "outputs": [],
   "source": [
    "probs=mlp.forward(normalized_feature_test)"
   ]
  },
  {
   "cell_type": "code",
   "execution_count": 58,
   "metadata": {
    "id": "DC7Yw3cEnVkR"
   },
   "outputs": [],
   "source": [
    "predictions = np.argmax(probs, axis=1)"
   ]
  },
  {
   "cell_type": "code",
   "execution_count": 59,
   "metadata": {
    "id": "KfCp3AEP1oav"
   },
   "outputs": [],
   "source": [
    "accuracy = np.mean(predictions == test_labels)"
   ]
  },
  {
   "cell_type": "code",
   "execution_count": 60,
   "metadata": {
    "colab": {
     "base_uri": "https://localhost:8080/"
    },
    "id": "xpwVkxrP1oav",
    "outputId": "88544d51-594b-461c-9802-0562cd881a05"
   },
   "outputs": [
    {
     "name": "stdout",
     "output_type": "stream",
     "text": [
      "Accuracy of MLP  on testset: 0.4773\n"
     ]
    }
   ],
   "source": [
    "print(\"Accuracy of MLP  on testset:\",accuracy)"
   ]
  },
  {
   "cell_type": "code",
   "execution_count": 61,
   "metadata": {
    "id": "PCqHcdQI-2gO"
   },
   "outputs": [],
   "source": [
    "top_5_classes=np.argsort(probs,axis=1)[:,-5:]"
   ]
  },
  {
   "cell_type": "code",
   "execution_count": 62,
   "metadata": {
    "id": "bBH3vrgf_JJ1"
   },
   "outputs": [],
   "source": [
    "# Check if true label in one of 5 classes\n",
    "correct = 0\n",
    "for j in range(len(test_labels)):\n",
    "    if test_labels[j] in top_5_classes[j, :]:\n",
    "        correct += 1\n",
    "accuracy = correct / len(test_labels)"
   ]
  },
  {
   "cell_type": "code",
   "execution_count": 63,
   "metadata": {
    "colab": {
     "base_uri": "https://localhost:8080/"
    },
    "id": "AzPFWhI2_5AP",
    "outputId": "8280dbef-ef90-44dc-c360-eb667208c27b"
   },
   "outputs": [
    {
     "name": "stdout",
     "output_type": "stream",
     "text": [
      "Accuracy of MLP On testset of top 5 classification: 0.9084\n"
     ]
    }
   ],
   "source": [
    "print(\"Accuracy of MLP On testset of top 5 classification:\",accuracy)"
   ]
  },
  {
   "cell_type": "code",
   "execution_count": 64,
   "metadata": {},
   "outputs": [],
   "source": [
    "weights={}\n",
    "\n",
    "weights['w1']=mlp.w1\n",
    "weights['w2']=mlp.w2\n",
    "weights['w3']=mlp.w3"
   ]
  },
  {
   "cell_type": "code",
   "execution_count": 65,
   "metadata": {},
   "outputs": [],
   "source": [
    "biases={}\n",
    "\n",
    "biases['b1']=mlp.b1\n",
    "biases['b2']=mlp.b2\n",
    "biases['b3']=mlp.b3"
   ]
  },
  {
   "cell_type": "code",
   "execution_count": 66,
   "metadata": {},
   "outputs": [],
   "source": [
    "with open(\"weights.pkl\",\"wb\")as file:\n",
    "    pickle.dump(weights,file)"
   ]
  },
  {
   "cell_type": "code",
   "execution_count": 67,
   "metadata": {},
   "outputs": [],
   "source": [
    "with open(\"biases.pkl\",\"wb\")as file:\n",
    "    pickle.dump(biases,file)"
   ]
  },
  {
   "cell_type": "code",
   "execution_count": null,
   "metadata": {},
   "outputs": [],
   "source": []
  }
 ],
 "metadata": {
  "accelerator": "GPU",
  "colab": {
   "provenance": []
  },
  "gpuClass": "standard",
  "kernelspec": {
   "display_name": "Python 3 (ipykernel)",
   "language": "python",
   "name": "python3"
  },
  "language_info": {
   "codemirror_mode": {
    "name": "ipython",
    "version": 3
   },
   "file_extension": ".py",
   "mimetype": "text/x-python",
   "name": "python",
   "nbconvert_exporter": "python",
   "pygments_lexer": "ipython3",
   "version": "3.10.5"
  }
 },
 "nbformat": 4,
 "nbformat_minor": 1
}
