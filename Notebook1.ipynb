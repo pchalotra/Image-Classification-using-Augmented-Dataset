{
 "cells": [
  {
   "cell_type": "markdown",
   "id": "28edd0b9",
   "metadata": {},
   "source": [
    "## Question 1"
   ]
  },
  {
   "cell_type": "markdown",
   "id": "0d27ae5a",
   "metadata": {},
   "source": [
    "#### Load  CIFAR-10 dataset batches and merge "
   ]
  },
  {
   "cell_type": "code",
   "execution_count": 204,
   "id": "5a799a12",
   "metadata": {},
   "outputs": [],
   "source": [
    "import pickle\n",
    "\n",
    "# Initialize lists to store data\n",
    "data = []\n",
    "labels = []\n",
    "\n",
    "# Loop through each file in the dataset\n",
    "for i in range(1, 6):\n",
    "    # Open the file and load the data\n",
    "    with open(f'data_batch_{i}', 'rb') as f:\n",
    "        dict = pickle.load(f, encoding='bytes')\n",
    "        \n",
    "    # Extract the data and labels from the file\n",
    "    batch_data = dict[b'data']\n",
    "    batch_labels = dict[b'labels']\n",
    "    # Append the data and labels to the overall lists\n",
    "    \n",
    "    data.append(batch_data)\n",
    "    labels.append(batch_labels)\n",
    "\n",
    "# Combine the data and labels into a single array\n",
    "data = np.concatenate(data)\n",
    "labels = np.concatenate(labels)\n",
    "\n"
   ]
  },
  {
   "cell_type": "markdown",
   "id": "771fb2db",
   "metadata": {},
   "source": [
    "## Question 2"
   ]
  },
  {
   "cell_type": "markdown",
   "id": "93a8402e",
   "metadata": {},
   "source": [
    "#### Implement the image transformation methods "
   ]
  },
  {
   "cell_type": "code",
   "execution_count": 189,
   "id": "89c6b212",
   "metadata": {},
   "outputs": [],
   "source": [
    "X_train = data.reshape(len(data),3, 32, 32)\n",
    "X_train = X_train.transpose((0,2, 3, 1))\n",
    "image=X_train[1]\n",
    "y_train=labels\n"
   ]
  },
  {
   "cell_type": "code",
   "execution_count": 208,
   "id": "088f4c79",
   "metadata": {},
   "outputs": [],
   "source": [
    "def img_enhancement(x):\n",
    "    min_pixel=x.min()\n",
    "    max_pixel=x.max()\n",
    "    image_array =( (x - min_pixel) / (max_pixel - min_pixel) )*255\n",
    "    image = image_array.astype(np.uint8)/255.0\n",
    "    return image"
   ]
  },
  {
   "cell_type": "code",
   "execution_count": 209,
   "id": "07c1662b",
   "metadata": {},
   "outputs": [
    {
     "data": {
      "image/png": "[encoded data removed]",
      "text/plain": [
       "<Figure size 432x288 with 1 Axes>"
      ]
     },
     "metadata": {
      "needs_background": "light"
     },
     "output_type": "display_data"
    }
   ],
   "source": [
    "img_enhance=img_enhancement(image)\n",
    "\n",
    "plt.imshow(img_enhance)\n",
    "plt.show()"
   ]
  },
  {
   "cell_type": "code",
   "execution_count": 162,
   "id": "15c35b3a",
   "metadata": {},
   "outputs": [],
   "source": [
    "def img_posterization(image):  \n",
    "    min_pixel = 100\n",
    "    max_pixel = 200\n",
    "\n",
    "    # Calculate the range\n",
    "    Range = max_pixel - min_pixel\n",
    "\n",
    "    # Get the divider for the colors\n",
    "    divider = 255 / Range    \n",
    "    image=image/divider\n",
    "    image+=min_pixel\n",
    "    out_array = np.clip(image, a_min =0, a_max = 255,out=None) \n",
    "    image = out_array.astype(np.uint8)/255.0\n",
    "    return image\n"
   ]
  },
  {
   "cell_type": "code",
   "execution_count": 163,
   "id": "1300d661",
   "metadata": {},
   "outputs": [
    {
     "data": {
      "image/png": "[encoded data removed]",
      "text/plain": [
       "<Figure size 432x288 with 1 Axes>"
      ]
     },
     "metadata": {
      "needs_background": "light"
     },
     "output_type": "display_data"
    }
   ],
   "source": [
    "img_post=img_posterization(image)\n",
    "\n",
    "plt.imshow(img_post)\n",
    "plt.show()"
   ]
  },
  {
   "cell_type": "code",
   "execution_count": 164,
   "id": "6e841d8d",
   "metadata": {},
   "outputs": [],
   "source": [
    "def rotation(image): \n",
    "    (height, width, channels) = image.shape\n",
    "\n",
    "        # Create a blank image of the same size as the original\n",
    "    rotated_img = np.zeros((height, width, channels), np.uint8)\n",
    "\n",
    "        # Define the angle of rotation\n",
    "    theta = random.uniform(-180, 180)\n",
    "\n",
    "    shift_origin_x=width/2;\n",
    "    shift_origin_y=height/2;\n",
    "\n",
    "        # For each pixel in the original image\n",
    "    for x in range(width):\n",
    "            for y in range(height):\n",
    "                x_new=x-shift_origin_x;\n",
    "                y_new=y-shift_origin_y;\n",
    "                # Calculate the new position of the pixel in the rotated image\n",
    "                new_x = int(x_new * np.cos(theta) - y_new * np.sin(theta))\n",
    "                new_y = int(x_new * np.sin(theta) + y_new * np.cos(theta))\n",
    "\n",
    "                new_x+=shift_origin_x;\n",
    "                new_y+=shift_origin_y;\n",
    "                # Check if the new position is within the bounds of the rotated image\n",
    "                if new_x >= 0 and new_x < width and new_y >= 0 and new_y < height:\n",
    "                    # Copy the pixel to the new position\n",
    "                    rotated_img[int(new_y)][int(new_x)] = image[y][x]\n",
    "    return rotated_img"
   ]
  },
  {
   "cell_type": "code",
   "execution_count": 165,
   "id": "cfeae552",
   "metadata": {},
   "outputs": [
    {
     "data": {
      "image/png": "[encoded data removed]",
      "text/plain": [
       "<Figure size 432x288 with 1 Axes>"
      ]
     },
     "metadata": {
      "needs_background": "light"
     },
     "output_type": "display_data"
    }
   ],
   "source": [
    "rotated_image=rotation(image)\n",
    "plt.imshow(rotated_image)\n",
    "plt.show()\n"
   ]
  },
  {
   "cell_type": "code",
   "execution_count": 166,
   "id": "1db411e9",
   "metadata": {},
   "outputs": [],
   "source": [
    "def contrast_and_flip(image, prob=0.5):\n",
    "    # Change contrast\n",
    "    alpha = np.random.uniform(0.5, 2.0)\n",
    "    image = alpha * (image - 128) + 128\n",
    "    image = np.clip(image, 0, 255).astype(np.uint8)\n",
    "    \n",
    "    \n",
    "    # Flip image horizontally with probability prob\n",
    "    if np.random.random() < prob:\n",
    "        image = np.fliplr(image)\n",
    "    \n",
    "    return image"
   ]
  },
  {
   "cell_type": "code",
   "execution_count": 167,
   "id": "dd66e6d9",
   "metadata": {},
   "outputs": [
    {
     "data": {
      "image/png": "[encoded data removed]",
      "text/plain": [
       "<Figure size 432x288 with 1 Axes>"
      ]
     },
     "metadata": {
      "needs_background": "light"
     },
     "output_type": "display_data"
    }
   ],
   "source": [
    "contrast_img=contrast_and_flip(image)\n",
    "plt.imshow(contrast_img)\n",
    "plt.show()"
   ]
  },
  {
   "cell_type": "markdown",
   "id": "986c62b5",
   "metadata": {},
   "source": [
    "## Question 3"
   ]
  },
  {
   "cell_type": "markdown",
   "id": "6faa960e",
   "metadata": {},
   "source": [
    "#### Create the augmented training set using the transformation functions"
   ]
  },
  {
   "cell_type": "code",
   "execution_count": 192,
   "id": "eec13dae",
   "metadata": {},
   "outputs": [
    {
     "name": "stdout",
     "output_type": "stream",
     "text": [
      "(50000, 32, 32, 3)\n"
     ]
    },
    {
     "data": {
      "text/plain": [
       "(100000, 3072)"
      ]
     },
     "execution_count": 192,
     "metadata": {},
     "output_type": "execute_result"
    }
   ],
   "source": [
    "\n",
    "\n",
    "# list to store augmented images\n",
    "X_augmented = []\n",
    "y_augmented=[]\n",
    "\n",
    "# iterate over each image in original training set\n",
    "for i  in range (len(data)):\n",
    "    img=X_train[i]\n",
    "    label=y_train[i]\n",
    "        \n",
    "    # randomly select one of the four transformation functions\n",
    "    rand_num = np.random.randint(0, 4)\n",
    "    if rand_num == 0:\n",
    "        # apply img_enhacement\n",
    "        img_aug=img_enhancement(img)\n",
    "        \n",
    "    elif rand_num == 1:\n",
    "        # apply posterization\n",
    "        img_aug=img_posterization(img)\n",
    "        \n",
    "    elif rand_num == 2:\n",
    "        # apply rotation\n",
    "        img_aug=rotation(img)\n",
    "        \n",
    "    else:\n",
    "        # apply contrast and flipping\n",
    "        img_aug = contrast_and_flip(img)\n",
    "\n",
    "    # add augmented image to list\n",
    "    \n",
    "    X_augmented.append(img_aug.reshape(3072))\n",
    "    y_augmented.append(label)\n",
    "    \n",
    "# combine original training set with augmented images\n",
    "X_augmented_train = np.concatenate((data, X_augmented), axis=0)\n",
    "y_augmented_train = np.concatenate((labels, y_augmented), axis=0)\n",
    "\n",
    "print(np.shape(X_train))\n",
    "np.shape(X_augmented_train)"
   ]
  },
  {
   "cell_type": "markdown",
   "id": "34747094",
   "metadata": {},
   "source": [
    "## Question 4"
   ]
  },
  {
   "cell_type": "markdown",
   "id": "6565a85b",
   "metadata": {},
   "source": [
    "#### feature extraction by feature_extractor"
   ]
  },
  {
   "cell_type": "code",
   "execution_count": 212,
   "id": "bb42a0de",
   "metadata": {},
   "outputs": [],
   "source": [
    "from feature_extractor import BBResNet18\n",
    "\n",
    "# Initialize the feature extractor\n",
    "extractor =BBResNet18()"
   ]
  },
  {
   "cell_type": "code",
   "execution_count": 213,
   "id": "cc3b4e97",
   "metadata": {},
   "outputs": [],
   "source": [
    "# code for feature extraction of original dataset"
   ]
  },
  {
   "cell_type": "code",
   "execution_count": 215,
   "id": "ce39d6ff",
   "metadata": {},
   "outputs": [],
   "source": [
    "import cv2\n",
    "import random\n",
    "rand_indices = np.random.permutation(data.shape[0])\n",
    "feature_list=[]\n",
    "# Loop over the random indices to process the images one by one\n",
    "for i in rand_indices:\n",
    "    image = data[i, :]\n",
    "    image_array = np.reshape(image, (32, 32, 3))\n",
    "    resized_image = cv2.resize(image_array, (224,224))\n",
    "    resized_image = np.transpose(resized_image, (2,0,1))\n",
    "    img = np.array(resized_image, dtype=np.float32)\n",
    "    img = np.expand_dims(img, axis=0)\n",
    "    feature_list.append(extractor.feature_extraction(img))\n",
    "    "
   ]
  },
  {
   "cell_type": "code",
   "execution_count": 216,
   "id": "5c59aab2",
   "metadata": {},
   "outputs": [],
   "source": [
    "feature=np.array(feature_list)\n",
    "feature=feature.squeeze()"
   ]
  },
  {
   "cell_type": "code",
   "execution_count": 217,
   "id": "57a44c23",
   "metadata": {},
   "outputs": [],
   "source": [
    "# normalize feature vector by max-min scaling\n",
    "\n",
    "min_values = np.min(feature, axis=0)\n",
    "max_values = np.max(feature, axis=0)\n",
    "\n",
    "normalized_feature = (feature - min_values) / (max_values - min_values+1e-10)\n"
   ]
  },
  {
   "cell_type": "code",
   "execution_count": 218,
   "id": "0711708e",
   "metadata": {},
   "outputs": [],
   "source": [
    "with open(\"normalized_featuref.pkl\",\"wb\") as file:\n",
    "    pickle.dump(normalized_feature,file);"
   ]
  },
  {
   "cell_type": "code",
   "execution_count": 219,
   "id": "0e1c7882",
   "metadata": {},
   "outputs": [],
   "source": [
    "final_labels=[]\n",
    "for i in range(len(rand_indices)):\n",
    "    final_labels.append(labels[rand_indices[i]])\n",
    "    \n"
   ]
  },
  {
   "cell_type": "code",
   "execution_count": 220,
   "id": "b49ff9b0",
   "metadata": {},
   "outputs": [],
   "source": [
    "with open(\"finallabelsf.pkl\",\"wb\") as file:\n",
    "    pickle.dump(final_labels,file);"
   ]
  },
  {
   "cell_type": "code",
   "execution_count": 221,
   "id": "27b141e9",
   "metadata": {},
   "outputs": [],
   "source": [
    "import cv2\n",
    "import random\n",
    "\n",
    "rand_indices = np.random.permutation(X_augmented_train.shape[0])\n",
    "feature_list=[]\n",
    "# Loop over the random indices to process the images one by one\n",
    "for i in rand_indices:\n",
    "    image = X_augmented_train[i, :]\n",
    "    image_array = np.reshape(image, (32, 32, 3))\n",
    "    resized_image = cv2.resize(image_array, (224,224))\n",
    "    resized_image = np.transpose(resized_image, (2,0,1))\n",
    "    img = np.array(resized_image, dtype=np.float32)\n",
    "    img = np.expand_dims(img, axis=0)\n",
    "    feature_list.append(extractor.feature_extraction(img))\n",
    "    "
   ]
  },
  {
   "cell_type": "code",
   "execution_count": 222,
   "id": "4a512b6d",
   "metadata": {},
   "outputs": [],
   "source": [
    "feature=np.array(feature_list)\n",
    "feature=feature.squeeze()\n"
   ]
  },
  {
   "cell_type": "code",
   "execution_count": 223,
   "id": "3ddd9fa2",
   "metadata": {},
   "outputs": [],
   "source": [
    "# normalize feature vector by max-min scaling\n",
    "\n",
    "min_values = np.min(feature, axis=0)\n",
    "max_values = np.max(feature, axis=0)\n",
    "\n",
    "normalized_feature = (feature - min_values) / (max_values - min_values+1e-10)\n"
   ]
  },
  {
   "cell_type": "code",
   "execution_count": 224,
   "id": "c5153117",
   "metadata": {},
   "outputs": [],
   "source": [
    "with open(\"normalized_feature_aug.pkl\",\"wb\") as file:\n",
    "    pickle.dump(normalized_feature,file);"
   ]
  },
  {
   "cell_type": "code",
   "execution_count": 225,
   "id": "fa948bac",
   "metadata": {},
   "outputs": [],
   "source": [
    "final_labels=[]\n",
    "for i in range(len(rand_indices)):\n",
    "    final_labels.append(y_augmented_train[rand_indices[i]])\n",
    "    \n"
   ]
  },
  {
   "cell_type": "code",
   "execution_count": 226,
   "id": "7da62c10",
   "metadata": {},
   "outputs": [],
   "source": [
    "with open(\"finallabels_aug.pkl\",\"wb\") as file:\n",
    "    pickle.dump(final_labels,file);"
   ]
  },
  {
   "cell_type": "code",
   "execution_count": 227,
   "id": "853261bc",
   "metadata": {},
   "outputs": [],
   "source": [
    "# feature extraction for test file"
   ]
  },
  {
   "cell_type": "code",
   "execution_count": 228,
   "id": "322dac27",
   "metadata": {},
   "outputs": [],
   "source": [
    "import numpy as np\n",
    "def unpickle(file):\n",
    "    import pickle\n",
    "    with open(file, 'rb') as fo:\n",
    "        dict = pickle.load(fo, encoding='bytes')\n",
    "        X = dict[b'data']\n",
    "        Y = dict[b'labels']\n",
    "        X = X.reshape(10000,3072)\n",
    "        Y = np.array(Y)\n",
    "        return X, Y\n",
    "    \n",
    "    \n",
    "test_data,test_labels=unpickle('test_batch')"
   ]
  },
  {
   "cell_type": "code",
   "execution_count": 237,
   "id": "c0f5b5d3",
   "metadata": {},
   "outputs": [],
   "source": [
    "import cv2\n",
    "def get_features(y):\n",
    "    feature_list =[]\n",
    "    for i in range(len(y)):\n",
    "        image_array = np.reshape(y[i], (32, 32, 3))\n",
    "        resized_image = cv2.resize(image_array, (224,224))\n",
    "        resized_image = np.transpose(resized_image, (2,0,1))\n",
    "        image = np.array(resized_image, dtype=np.float32)\n",
    "        image = np.expand_dims(image, axis=0)\n",
    "        feature_list.append(extractor.feature_extraction(image))\n",
    "    return feature_list"
   ]
  },
  {
   "cell_type": "code",
   "execution_count": 229,
   "id": "18f7e238",
   "metadata": {},
   "outputs": [],
   "source": [
    "test_feature=get_features(test_data)"
   ]
  },
  {
   "cell_type": "code",
   "execution_count": 231,
   "id": "307c16bd",
   "metadata": {},
   "outputs": [],
   "source": [
    "test_feature=np.array(test_feature)\n",
    "test_feature=test_feature.squeeze()\n"
   ]
  },
  {
   "cell_type": "code",
   "execution_count": 232,
   "id": "8c15b4df",
   "metadata": {},
   "outputs": [],
   "source": [
    "# normalize feature vector by max-min scaling\n",
    "\n",
    "min_values = np.min(test_feature, axis=0)\n",
    "max_values = np.max(test_feature, axis=0)\n",
    "\n",
    "normalized_feature_test = (test_feature - min_values) / (max_values - min_values+1e-10)\n"
   ]
  },
  {
   "cell_type": "code",
   "execution_count": 233,
   "id": "dcd1fba7",
   "metadata": {},
   "outputs": [],
   "source": [
    "with open(\"test_featuref.pkl\",\"wb\") as file:\n",
    "    pickle.dump(final_labels,file);"
   ]
  }
 ],
 "metadata": {
  "kernelspec": {
   "display_name": "Python 3 (ipykernel)",
   "language": "python",
   "name": "python3"
  },
  "language_info": {
   "codemirror_mode": {
    "name": "ipython",
    "version": 3
   },
   "file_extension": ".py",
   "mimetype": "text/x-python",
   "name": "python",
   "nbconvert_exporter": "python",
   "pygments_lexer": "ipython3",
   "version": "3.10.5"
  }
 },
 "nbformat": 4,
 "nbformat_minor": 5
}
